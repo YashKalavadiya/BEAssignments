{
 "cells": [
  {
   "cell_type": "markdown",
   "id": "a807f019",
   "metadata": {},
   "source": [
    "# Assignment 6- Data Visualisation- III"
   ]
  },
  {
   "cell_type": "code",
   "execution_count": 1,
   "id": "3218e88d",
   "metadata": {},
   "outputs": [
    {
     "data": {
      "text/html": [
       "<div>\n",
       "<style scoped>\n",
       "    .dataframe tbody tr th:only-of-type {\n",
       "        vertical-align: middle;\n",
       "    }\n",
       "\n",
       "    .dataframe tbody tr th {\n",
       "        vertical-align: top;\n",
       "    }\n",
       "\n",
       "    .dataframe thead th {\n",
       "        text-align: right;\n",
       "    }\n",
       "</style>\n",
       "<table border=\"1\" class=\"dataframe\">\n",
       "  <thead>\n",
       "    <tr style=\"text-align: right;\">\n",
       "      <th></th>\n",
       "      <th>sepal_length</th>\n",
       "      <th>sepal_width</th>\n",
       "      <th>petal_length</th>\n",
       "      <th>petal_width</th>\n",
       "      <th>species</th>\n",
       "    </tr>\n",
       "  </thead>\n",
       "  <tbody>\n",
       "    <tr>\n",
       "      <th>0</th>\n",
       "      <td>5.1</td>\n",
       "      <td>3.5</td>\n",
       "      <td>1.4</td>\n",
       "      <td>0.2</td>\n",
       "      <td>setosa</td>\n",
       "    </tr>\n",
       "    <tr>\n",
       "      <th>1</th>\n",
       "      <td>4.9</td>\n",
       "      <td>3.0</td>\n",
       "      <td>1.4</td>\n",
       "      <td>0.2</td>\n",
       "      <td>setosa</td>\n",
       "    </tr>\n",
       "    <tr>\n",
       "      <th>2</th>\n",
       "      <td>4.7</td>\n",
       "      <td>3.2</td>\n",
       "      <td>1.3</td>\n",
       "      <td>0.2</td>\n",
       "      <td>setosa</td>\n",
       "    </tr>\n",
       "    <tr>\n",
       "      <th>3</th>\n",
       "      <td>4.6</td>\n",
       "      <td>3.1</td>\n",
       "      <td>1.5</td>\n",
       "      <td>0.2</td>\n",
       "      <td>setosa</td>\n",
       "    </tr>\n",
       "    <tr>\n",
       "      <th>4</th>\n",
       "      <td>5.0</td>\n",
       "      <td>3.6</td>\n",
       "      <td>1.4</td>\n",
       "      <td>0.2</td>\n",
       "      <td>setosa</td>\n",
       "    </tr>\n",
       "  </tbody>\n",
       "</table>\n",
       "</div>"
      ],
      "text/plain": [
       "   sepal_length  sepal_width  petal_length  petal_width species\n",
       "0           5.1          3.5           1.4          0.2  setosa\n",
       "1           4.9          3.0           1.4          0.2  setosa\n",
       "2           4.7          3.2           1.3          0.2  setosa\n",
       "3           4.6          3.1           1.5          0.2  setosa\n",
       "4           5.0          3.6           1.4          0.2  setosa"
      ]
     },
     "execution_count": 1,
     "metadata": {},
     "output_type": "execute_result"
    }
   ],
   "source": [
    "import pandas as pd\n",
    "import numpy as np\n",
    "\n",
    "import matplotlib.pyplot as plt\n",
    "import seaborn as sns\n",
    "\n",
    "dataset = sns.load_dataset('iris')\n",
    "\n",
    "dataset.head()"
   ]
  },
  {
   "cell_type": "markdown",
   "id": "66ee65eb",
   "metadata": {},
   "source": [
    "The data set contains 3 classes of 50 instances each, where each class refers to a type of iris plant. One class is linearly separable from the other 2; the latter are NOT linearly separable from each other.\n",
    "\n",
    "Attribute Information:\n",
    "\n",
    "1. Sepal length in cm\n",
    "2. Sepal width in cm\n",
    "3. Petal length in cm\n",
    "4. Petal width in cm\n",
    "5. Class"
   ]
  },
  {
   "cell_type": "markdown",
   "id": "14487eae",
   "metadata": {},
   "source": [
    "## Dataset Data Types"
   ]
  },
  {
   "cell_type": "code",
   "execution_count": 3,
   "id": "12553ca9",
   "metadata": {},
   "outputs": [
    {
     "data": {
      "text/plain": [
       "sepal_length    float64\n",
       "sepal_width     float64\n",
       "petal_length    float64\n",
       "petal_width     float64\n",
       "species          object\n",
       "dtype: object"
      ]
     },
     "execution_count": 3,
     "metadata": {},
     "output_type": "execute_result"
    }
   ],
   "source": [
    "dataset.dtypes"
   ]
  },
  {
   "cell_type": "markdown",
   "id": "e3443f4a",
   "metadata": {},
   "source": [
    "Thus, it can be inferred that\n",
    "1. Numerical Columns:\n",
    "\n",
    "    i.  Sepal length in cm\n",
    "    \n",
    "    ii. Sepal width in cm\n",
    "    \n",
    "    iii.Petal length in cm\n",
    "    \n",
    "    iv. Petal width in cm\n",
    "    \n",
    "2. Categorical columns:\n",
    "\n",
    "    i. Class"
   ]
  },
  {
   "cell_type": "markdown",
   "id": "4c905c5b",
   "metadata": {},
   "source": [
    "## Plotting histograms"
   ]
  },
  {
   "cell_type": "code",
   "execution_count": 12,
   "id": "0f285929",
   "metadata": {},
   "outputs": [
    {
     "data": {
      "image/png": "[encoded data removed]",
      "text/plain": [
       "<Figure size 432x288 with 1 Axes>"
      ]
     },
     "metadata": {
      "needs_background": "light"
     },
     "output_type": "display_data"
    }
   ],
   "source": [
    "sns.histplot(data=dataset,x='sepal_length', hue='species');"
   ]
  },
  {
   "cell_type": "code",
   "execution_count": 15,
   "id": "b41b0cb4",
   "metadata": {},
   "outputs": [
    {
     "data": {
      "image/png": "[encoded data removed]",
      "text/plain": [
       "<Figure size 432x288 with 1 Axes>"
      ]
     },
     "metadata": {
      "needs_background": "light"
     },
     "output_type": "display_data"
    }
   ],
   "source": [
    "sns.histplot(data=dataset,x='petal_length',hue='species');"
   ]
  },
  {
   "cell_type": "code",
   "execution_count": 14,
   "id": "d2a0fdb1",
   "metadata": {},
   "outputs": [
    {
     "data": {
      "image/png": "[encoded data removed]",
      "text/plain": [
       "<Figure size 432x288 with 1 Axes>"
      ]
     },
     "metadata": {
      "needs_background": "light"
     },
     "output_type": "display_data"
    }
   ],
   "source": [
    "sns.histplot(data=dataset,x='sepal_width',hue='species');"
   ]
  },
  {
   "cell_type": "code",
   "execution_count": 13,
   "id": "14645aa1",
   "metadata": {},
   "outputs": [
    {
     "data": {
      "image/png": "[encoded data removed]",
      "text/plain": [
       "<Figure size 432x288 with 1 Axes>"
      ]
     },
     "metadata": {
      "needs_background": "light"
     },
     "output_type": "display_data"
    }
   ],
   "source": [
    "sns.histplot(data=dataset,x='petal_width',hue='species');"
   ]
  },
  {
   "cell_type": "markdown",
   "id": "44d8fc3b",
   "metadata": {},
   "source": [
    "Thus, it can be inferred from the histograms that:\n",
    "1. The sepal-width and sepal-length columns follow a normal distribution with most values at the center such that sepal length of virginica is max, while sepal width of setosa is max\n",
    "2. The petal length and petal-width have more values in the extreme regions with less near the central tendency\n",
    "3. The petal-length and petal-width attributes are clearly distinguished by class- iris-setosa have the least while iris-virginica have the maximum of both."
   ]
  },
  {
   "cell_type": "markdown",
   "id": "07b3b90a",
   "metadata": {},
   "source": [
    "## Plotting boxplots"
   ]
  },
  {
   "cell_type": "code",
   "execution_count": 18,
   "id": "710e8a5a",
   "metadata": {},
   "outputs": [
    {
     "data": {
      "image/png": "[encoded data removed]",
      "text/plain": [
       "<Figure size 432x288 with 1 Axes>"
      ]
     },
     "metadata": {
      "needs_background": "light"
     },
     "output_type": "display_data"
    }
   ],
   "source": [
    "sns.boxplot(data=dataset,y='sepal_length',x='species');"
   ]
  },
  {
   "cell_type": "markdown",
   "id": "29009c3e",
   "metadata": {},
   "source": [
    "Thus, the boxplot shows that:\n",
    "1. The sepal_lengths follow the relative order: setosa < versicolor < virginica\n",
    "2. Outliers are present in virginica with value = 5"
   ]
  },
  {
   "cell_type": "code",
   "execution_count": 20,
   "id": "de573870",
   "metadata": {},
   "outputs": [
    {
     "data": {
      "image/png": "[encoded data removed]",
      "text/plain": [
       "<Figure size 432x288 with 1 Axes>"
      ]
     },
     "metadata": {
      "needs_background": "light"
     },
     "output_type": "display_data"
    }
   ],
   "source": [
    "sns.boxplot(data=dataset,y='sepal_width',x='species');"
   ]
  },
  {
   "cell_type": "markdown",
   "id": "4c66d236",
   "metadata": {},
   "source": [
    "Thus, the boxplot shows that:\n",
    "\n",
    "1. The sepal_widths follow the relative order: versicolor < virginica < setosa\n",
    "2. Outliers are present in virginica and setosa"
   ]
  },
  {
   "cell_type": "code",
   "execution_count": 19,
   "id": "aab1bd9c",
   "metadata": {},
   "outputs": [
    {
     "data": {
      "image/png": "[encoded data removed]",
      "text/plain": [
       "<Figure size 432x288 with 1 Axes>"
      ]
     },
     "metadata": {
      "needs_background": "light"
     },
     "output_type": "display_data"
    }
   ],
   "source": [
    "sns.boxplot(data=dataset,y='petal_length',x='species');"
   ]
  },
  {
   "cell_type": "markdown",
   "id": "f96a8dc8",
   "metadata": {},
   "source": [
    "Thus, the boxplot shows that:\n",
    "\n",
    "1. The petal_lengths follow the relative order: setosa < versicolor < virginica \n",
    "2. Outliers are present in versicolor and setosa"
   ]
  },
  {
   "cell_type": "code",
   "execution_count": 22,
   "id": "7e9bfaf6",
   "metadata": {},
   "outputs": [
    {
     "data": {
      "image/png": "[encoded data removed]",
      "text/plain": [
       "<Figure size 432x288 with 1 Axes>"
      ]
     },
     "metadata": {
      "needs_background": "light"
     },
     "output_type": "display_data"
    }
   ],
   "source": [
    "sns.boxplot(data=dataset,y='petal_width',x='species');"
   ]
  },
  {
   "cell_type": "markdown",
   "id": "9c85d26c",
   "metadata": {},
   "source": [
    "Thus, the boxplot shows that:\n",
    "\n",
    "1. The petal_widths follow the relative order: setosa < versicolor < virginica\n",
    "2. Outliers are present in setosa with larger values."
   ]
  }
 ],
 "metadata": {
  "kernelspec": {
   "display_name": "Python 3 (ipykernel)",
   "language": "python",
   "name": "python3"
  },
  "language_info": {
   "codemirror_mode": {
    "name": "ipython",
    "version": 3
   },
   "file_extension": ".py",
   "mimetype": "text/x-python",
   "name": "python",
   "nbconvert_exporter": "python",
   "pygments_lexer": "ipython3",
   "version": "3.8.10"
  }
 },
 "nbformat": 4,
 "nbformat_minor": 5
}
